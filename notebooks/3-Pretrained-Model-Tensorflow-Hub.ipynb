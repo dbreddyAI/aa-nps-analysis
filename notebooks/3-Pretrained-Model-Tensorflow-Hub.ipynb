{
 "cells": [
  {
   "cell_type": "markdown",
   "metadata": {},
   "source": [
    "# Model - Tensorflow Hub!\n",
    "Of course we must include Tensorflow and TF2.0 has become so much easier to use with hub!"
   ]
  },
  {
   "cell_type": "code",
   "execution_count": 1,
   "metadata": {},
   "outputs": [
    {
     "data": {
      "text/plain": [
       "('2.0.0-beta1', '0.5.0')"
      ]
     },
     "execution_count": 1,
     "metadata": {},
     "output_type": "execute_result"
    }
   ],
   "source": [
    "import pandas as pd\n",
    "import numpy as np\n",
    "import matplotlib.pyplot as plt\n",
    "\n",
    "import tensorflow as tf\n",
    "from tensorflow import keras\n",
    "import tensorflow_hub as hub\n",
    "\n",
    "tf.__version__, hub.__version__"
   ]
  },
  {
   "cell_type": "code",
   "execution_count": 2,
   "metadata": {},
   "outputs": [],
   "source": [
    "df = pd.read_csv('../data/preproc_nps_2018.csv')"
   ]
  },
  {
   "cell_type": "code",
   "execution_count": null,
   "metadata": {},
   "outputs": [],
   "source": [
    "df.head()"
   ]
  },
  {
   "cell_type": "code",
   "execution_count": 4,
   "metadata": {},
   "outputs": [],
   "source": [
    "df.label = df.label.apply(lambda x: 1 if x == 'positive' else 0)"
   ]
  },
  {
   "cell_type": "code",
   "execution_count": 5,
   "metadata": {},
   "outputs": [
    {
     "data": {
      "text/plain": [
       "(179791, 20209)"
      ]
     },
     "execution_count": 5,
     "metadata": {},
     "output_type": "execute_result"
    }
   ],
   "source": [
    "np.sum(df.is_valid), np.sum(np.logical_not(df.is_valid))"
   ]
  },
  {
   "cell_type": "code",
   "execution_count": 6,
   "metadata": {},
   "outputs": [],
   "source": [
    "train_df = df[df.is_valid]\n",
    "val_df = df[np.logical_not(df.is_valid)]"
   ]
  },
  {
   "cell_type": "code",
   "execution_count": 7,
   "metadata": {},
   "outputs": [
    {
     "data": {
      "text/plain": [
       "((179791, 3), (20209, 3))"
      ]
     },
     "execution_count": 7,
     "metadata": {},
     "output_type": "execute_result"
    }
   ],
   "source": [
    "train_df.shape, val_df.shape"
   ]
  },
  {
   "cell_type": "code",
   "execution_count": 8,
   "metadata": {},
   "outputs": [],
   "source": [
    "X_train = train_df.text.values\n",
    "X_val = val_df.text.values\n",
    "y_train = train_df.label.values\n",
    "y_val = val_df.label.values"
   ]
  },
  {
   "cell_type": "code",
   "execution_count": 9,
   "metadata": {},
   "outputs": [],
   "source": [
    "def show_training_curve(history):\n",
    "    history_dict = history.history\n",
    "    \n",
    "    acc = history_dict['accuracy']\n",
    "    val_acc = history_dict['val_accuracy']\n",
    "    loss = history_dict['loss']\n",
    "    val_loss = history_dict['val_loss']\n",
    "    \n",
    "    epochs = range(1, len(acc) + 1)\n",
    "    \n",
    "    f, ax = plt.subplots(1, 2, figsize=(20, 4))\n",
    "\n",
    "    ax[0].plot(epochs, loss, 'bo', label='Training loss')\n",
    "    ax[0].plot(epochs, val_loss, 'b', label='Validation loss')\n",
    "    ax[0].set_title('Training and validation loss')\n",
    "    ax[0].set_xlabel('Epochs')\n",
    "    ax[0].set_ylabel('Loss')\n",
    "    ax[0].legend()\n",
    "    \n",
    "    ax[1].plot(epochs, acc, 'bo', label='Training acc')\n",
    "    ax[1].plot(epochs, val_acc, 'b', label='Validation acc')\n",
    "    ax[1].set_title('Training and validation accuracy')\n",
    "    ax[1].set_xlabel('Epochs')\n",
    "    ax[1].set_ylabel('Accuracy')\n",
    "    ax[1].legend()"
   ]
  },
  {
   "cell_type": "markdown",
   "metadata": {},
   "source": [
    "### Let's try the small yet powerful pre-trained model\n",
    "Model detail - https://tfhub.dev/google/tf2-preview/gnews-swivel-20dim-with-oov/1"
   ]
  },
  {
   "cell_type": "code",
   "execution_count": 10,
   "metadata": {},
   "outputs": [
    {
     "name": "stdout",
     "output_type": "stream",
     "text": [
      "Model: \"sequential\"\n",
      "_________________________________________________________________\n",
      "Layer (type)                 Output Shape              Param #   \n",
      "=================================================================\n",
      "keras_layer (KerasLayer)     (None, 20)                389380    \n",
      "_________________________________________________________________\n",
      "dense (Dense)                (None, 16)                336       \n",
      "_________________________________________________________________\n",
      "dense_1 (Dense)              (None, 1)                 17        \n",
      "=================================================================\n",
      "Total params: 389,733\n",
      "Trainable params: 389,733\n",
      "Non-trainable params: 0\n",
      "_________________________________________________________________\n"
     ]
    }
   ],
   "source": [
    "gnews_swivel_model = tf.keras.Sequential()\n",
    "gnews_swivel_model.add(hub.KerasLayer('https://tfhub.dev/google/tf2-preview/gnews-swivel-20dim-with-oov/1',\n",
    "                         output_shape=[20], input_shape=[], dtype=tf.string, trainable=True))\n",
    "gnews_swivel_model.add(tf.keras.layers.Dense(16, activation='relu'))\n",
    "gnews_swivel_model.add(tf.keras.layers.Dense(1, activation='sigmoid'))\n",
    "\n",
    "gnews_swivel_model.summary()"
   ]
  },
  {
   "cell_type": "code",
   "execution_count": 11,
   "metadata": {},
   "outputs": [],
   "source": [
    "gnews_swivel_model.compile(optimizer='adam', loss='binary_crossentropy', metrics=['accuracy'])"
   ]
  },
  {
   "cell_type": "code",
   "execution_count": 12,
   "metadata": {
    "scrolled": true
   },
   "outputs": [
    {
     "name": "stderr",
     "output_type": "stream",
     "text": [
      "WARNING: Logging before flag parsing goes to stderr.\n",
      "W0716 23:34:56.739943 4582708672 deprecation.py:323] From /anaconda3/envs/tf2/lib/python3.7/site-packages/tensorflow/python/ops/math_grad.py:1250: add_dispatch_support.<locals>.wrapper (from tensorflow.python.ops.array_ops) is deprecated and will be removed in a future version.\n",
      "Instructions for updating:\n",
      "Use tf.where in 2.0, which has the same broadcast rule as np.where\n"
     ]
    },
    {
     "name": "stdout",
     "output_type": "stream",
     "text": [
      "Train on 179791 samples, validate on 20209 samples\n",
      "Epoch 1/16\n",
      "179791/179791 [==============================] - 4s 20us/sample - loss: 0.3840 - accuracy: 0.8286 - val_loss: 0.2926 - val_accuracy: 0.8829\n",
      "Epoch 2/16\n",
      "179791/179791 [==============================] - 3s 18us/sample - loss: 0.2752 - accuracy: 0.8885 - val_loss: 0.2732 - val_accuracy: 0.8900\n",
      "Epoch 3/16\n",
      "179791/179791 [==============================] - 3s 19us/sample - loss: 0.2596 - accuracy: 0.8954 - val_loss: 0.2674 - val_accuracy: 0.8912\n",
      "Epoch 4/16\n",
      "179791/179791 [==============================] - 3s 18us/sample - loss: 0.2513 - accuracy: 0.8989 - val_loss: 0.2641 - val_accuracy: 0.8941\n",
      "Epoch 5/16\n",
      "179791/179791 [==============================] - 3s 18us/sample - loss: 0.2454 - accuracy: 0.9007 - val_loss: 0.2636 - val_accuracy: 0.8928\n",
      "Epoch 6/16\n",
      "179791/179791 [==============================] - 3s 18us/sample - loss: 0.2408 - accuracy: 0.9022 - val_loss: 0.2619 - val_accuracy: 0.8915\n",
      "Epoch 7/16\n",
      "179791/179791 [==============================] - 3s 18us/sample - loss: 0.2366 - accuracy: 0.9037 - val_loss: 0.2619 - val_accuracy: 0.8915\n",
      "Epoch 8/16\n",
      "179791/179791 [==============================] - 3s 18us/sample - loss: 0.2329 - accuracy: 0.9050 - val_loss: 0.2622 - val_accuracy: 0.8913\n",
      "Epoch 9/16\n",
      "179791/179791 [==============================] - 3s 18us/sample - loss: 0.2300 - accuracy: 0.9064 - val_loss: 0.2630 - val_accuracy: 0.8909\n",
      "Epoch 10/16\n",
      "179791/179791 [==============================] - 3s 18us/sample - loss: 0.2268 - accuracy: 0.9070 - val_loss: 0.2633 - val_accuracy: 0.8920\n",
      "Epoch 11/16\n",
      "179791/179791 [==============================] - 3s 18us/sample - loss: 0.2242 - accuracy: 0.9083 - val_loss: 0.2643 - val_accuracy: 0.8904\n",
      "Epoch 12/16\n",
      "179791/179791 [==============================] - 3s 18us/sample - loss: 0.2216 - accuracy: 0.9095 - val_loss: 0.2648 - val_accuracy: 0.8914\n",
      "Epoch 13/16\n",
      "179791/179791 [==============================] - 3s 18us/sample - loss: 0.2193 - accuracy: 0.9105 - val_loss: 0.2658 - val_accuracy: 0.8922\n",
      "Epoch 14/16\n",
      "179791/179791 [==============================] - 3s 18us/sample - loss: 0.2170 - accuracy: 0.9114 - val_loss: 0.2680 - val_accuracy: 0.8920\n",
      "Epoch 15/16\n",
      "179791/179791 [==============================] - 3s 18us/sample - loss: 0.2147 - accuracy: 0.9120 - val_loss: 0.2695 - val_accuracy: 0.8909\n",
      "Epoch 16/16\n",
      "179791/179791 [==============================] - 3s 18us/sample - loss: 0.2128 - accuracy: 0.9131 - val_loss: 0.2718 - val_accuracy: 0.8916\n"
     ]
    }
   ],
   "source": [
    "history = gnews_swivel_model.fit(X_train, y_train,\n",
    "                                 epochs=16,\n",
    "                                 batch_size=256,\n",
    "                                 validation_data=(X_val, y_val),\n",
    "                                 verbose=1)"
   ]
  },
  {
   "cell_type": "code",
   "execution_count": 13,
   "metadata": {},
   "outputs": [
    {
     "data": {
      "image/png": "[encoded data removed]",
      "text/plain": [
       "<Figure size 1440x288 with 2 Axes>"
      ]
     },
     "metadata": {
      "needs_background": "light"
     },
     "output_type": "display_data"
    }
   ],
   "source": [
    "show_training_curve(history)"
   ]
  },
  {
   "cell_type": "code",
   "execution_count": 14,
   "metadata": {},
   "outputs": [],
   "source": [
    "gnews_swivel_model.save('../models/gnews_swivel_16_ep_model.h5')"
   ]
  },
  {
   "cell_type": "markdown",
   "metadata": {},
   "source": [
    "### Now we move on to a more powerful model with 100x more parameters to train\n",
    "Model detail - https://tfhub.dev/google/tf2-preview/nnlm-en-dim50/1"
   ]
  },
  {
   "cell_type": "code",
   "execution_count": 15,
   "metadata": {},
   "outputs": [
    {
     "name": "stdout",
     "output_type": "stream",
     "text": [
      "Model: \"sequential_1\"\n",
      "_________________________________________________________________\n",
      "Layer (type)                 Output Shape              Param #   \n",
      "=================================================================\n",
      "keras_layer_1 (KerasLayer)   (None, 50)                48190600  \n",
      "_________________________________________________________________\n",
      "dense_2 (Dense)              (None, 16)                816       \n",
      "_________________________________________________________________\n",
      "dense_3 (Dense)              (None, 1)                 17        \n",
      "=================================================================\n",
      "Total params: 48,191,433\n",
      "Trainable params: 48,191,433\n",
      "Non-trainable params: 0\n",
      "_________________________________________________________________\n"
     ]
    }
   ],
   "source": [
    "nnlm_en_50_model = tf.keras.Sequential()\n",
    "nnlm_en_50_model.add(hub.KerasLayer('https://tfhub.dev/google/tf2-preview/nnlm-en-dim50/1',\n",
    "                                    output_shape=[50], input_shape=[], dtype=tf.string, trainable=True))\n",
    "nnlm_en_50_model.add(tf.keras.layers.Dense(16, activation='relu'))\n",
    "nnlm_en_50_model.add(tf.keras.layers.Dense(1, activation='sigmoid'))\n",
    "\n",
    "nnlm_en_50_model.summary()"
   ]
  },
  {
   "cell_type": "code",
   "execution_count": 16,
   "metadata": {},
   "outputs": [],
   "source": [
    "nnlm_en_50_model.compile(optimizer='adam', loss='binary_crossentropy', metrics=['accuracy'])"
   ]
  },
  {
   "cell_type": "code",
   "execution_count": 17,
   "metadata": {
    "scrolled": true
   },
   "outputs": [
    {
     "name": "stdout",
     "output_type": "stream",
     "text": [
      "Train on 179791 samples, validate on 20209 samples\n",
      "Epoch 1/16\n",
      "179791/179791 [==============================] - 488s 3ms/sample - loss: 0.3095 - accuracy: 0.8735 - val_loss: 0.2467 - val_accuracy: 0.9003\n",
      "Epoch 2/16\n",
      "179791/179791 [==============================] - 483s 3ms/sample - loss: 0.2199 - accuracy: 0.9139 - val_loss: 0.2448 - val_accuracy: 0.8993\n",
      "Epoch 3/16\n",
      "179791/179791 [==============================] - 474s 3ms/sample - loss: 0.2021 - accuracy: 0.9215 - val_loss: 0.2486 - val_accuracy: 0.8985\n",
      "Epoch 4/16\n",
      "179791/179791 [==============================] - 477s 3ms/sample - loss: 0.1907 - accuracy: 0.9254 - val_loss: 0.2567 - val_accuracy: 0.8965\n",
      "Epoch 5/16\n",
      "179791/179791 [==============================] - 474s 3ms/sample - loss: 0.1818 - accuracy: 0.9280 - val_loss: 0.2646 - val_accuracy: 0.8967\n",
      "Epoch 6/16\n",
      "179791/179791 [==============================] - 473s 3ms/sample - loss: 0.1747 - accuracy: 0.9307 - val_loss: 0.2718 - val_accuracy: 0.8964\n",
      "Epoch 7/16\n",
      "179791/179791 [==============================] - 471s 3ms/sample - loss: 0.1682 - accuracy: 0.9328 - val_loss: 0.2828 - val_accuracy: 0.8953\n",
      "Epoch 8/16\n",
      "179791/179791 [==============================] - 472s 3ms/sample - loss: 0.1622 - accuracy: 0.9351 - val_loss: 0.2899 - val_accuracy: 0.8952\n",
      "Epoch 9/16\n",
      "179791/179791 [==============================] - 473s 3ms/sample - loss: 0.1571 - accuracy: 0.9371 - val_loss: 0.3020 - val_accuracy: 0.8957\n",
      "Epoch 10/16\n",
      "179791/179791 [==============================] - 471s 3ms/sample - loss: 0.1519 - accuracy: 0.9391 - val_loss: 0.3126 - val_accuracy: 0.8945\n",
      "Epoch 11/16\n",
      "179791/179791 [==============================] - 473s 3ms/sample - loss: 0.1469 - accuracy: 0.9420 - val_loss: 0.3201 - val_accuracy: 0.8960\n",
      "Epoch 12/16\n",
      "179791/179791 [==============================] - 472s 3ms/sample - loss: 0.1422 - accuracy: 0.9440 - val_loss: 0.3303 - val_accuracy: 0.8936\n",
      "Epoch 13/16\n",
      "179791/179791 [==============================] - 473s 3ms/sample - loss: 0.1375 - accuracy: 0.9460 - val_loss: 0.3409 - val_accuracy: 0.8932\n",
      "Epoch 14/16\n",
      "179791/179791 [==============================] - 472s 3ms/sample - loss: 0.1330 - accuracy: 0.9477 - val_loss: 0.3500 - val_accuracy: 0.8924\n",
      "Epoch 15/16\n",
      "179791/179791 [==============================] - 471s 3ms/sample - loss: 0.1287 - accuracy: 0.9496 - val_loss: 0.3668 - val_accuracy: 0.8906\n",
      "Epoch 16/16\n",
      "179791/179791 [==============================] - 472s 3ms/sample - loss: 0.1249 - accuracy: 0.9510 - val_loss: 0.3710 - val_accuracy: 0.8916\n"
     ]
    }
   ],
   "source": [
    "history = nnlm_en_50_model.fit(X_train, y_train,\n",
    "                               epochs=16,\n",
    "                               batch_size=256,\n",
    "                               validation_data=(X_val, y_val),\n",
    "                               verbose=1)"
   ]
  },
  {
   "cell_type": "code",
   "execution_count": 18,
   "metadata": {},
   "outputs": [
    {
     "data": {
      "image/png": "[encoded data removed]",
      "text/plain": [
       "<Figure size 1440x288 with 2 Axes>"
      ]
     },
     "metadata": {
      "needs_background": "light"
     },
     "output_type": "display_data"
    }
   ],
   "source": [
    "show_training_curve(history)"
   ]
  },
  {
   "cell_type": "code",
   "execution_count": 19,
   "metadata": {},
   "outputs": [],
   "source": [
    "nnlm_en_50_model.save('../models/nnlm_en_50_16_ep_model.h5')"
   ]
  },
  {
   "cell_type": "markdown",
   "metadata": {},
   "source": [
    "### Now we move on to a superman model (over 100M paramters)\n",
    "Model detail - https://tfhub.dev/google/tf2-preview/nnlm-en-dim128/1"
   ]
  },
  {
   "cell_type": "code",
   "execution_count": 20,
   "metadata": {},
   "outputs": [
    {
     "name": "stdout",
     "output_type": "stream",
     "text": [
      "Model: \"sequential_2\"\n",
      "_________________________________________________________________\n",
      "Layer (type)                 Output Shape              Param #   \n",
      "=================================================================\n",
      "keras_layer_2 (KerasLayer)   (None, 128)               124642688 \n",
      "_________________________________________________________________\n",
      "dense_4 (Dense)              (None, 16)                2064      \n",
      "_________________________________________________________________\n",
      "dense_5 (Dense)              (None, 1)                 17        \n",
      "=================================================================\n",
      "Total params: 124,644,769\n",
      "Trainable params: 124,644,769\n",
      "Non-trainable params: 0\n",
      "_________________________________________________________________\n"
     ]
    }
   ],
   "source": [
    "nnlm_en_128_model = tf.keras.Sequential()\n",
    "nnlm_en_128_model.add(hub.KerasLayer('https://tfhub.dev/google/tf2-preview/nnlm-en-dim128/1',\n",
    "                                     output_shape=[128], input_shape=[], dtype=tf.string, trainable=True))\n",
    "nnlm_en_128_model.add(tf.keras.layers.Dense(16, activation='relu'))\n",
    "nnlm_en_128_model.add(tf.keras.layers.Dense(1, activation='sigmoid'))\n",
    "\n",
    "nnlm_en_128_model.summary()"
   ]
  },
  {
   "cell_type": "code",
   "execution_count": 21,
   "metadata": {},
   "outputs": [],
   "source": [
    "nnlm_en_128_model.compile(optimizer='adam', loss='binary_crossentropy', metrics=['accuracy'])"
   ]
  },
  {
   "cell_type": "code",
   "execution_count": 22,
   "metadata": {
    "scrolled": true
   },
   "outputs": [
    {
     "name": "stdout",
     "output_type": "stream",
     "text": [
      "Train on 179791 samples, validate on 20209 samples\n",
      "Epoch 1/16\n",
      "179791/179791 [==============================] - 1149s 6ms/sample - loss: 0.2824 - accuracy: 0.8886 - val_loss: 0.2441 - val_accuracy: 0.9014\n",
      "Epoch 2/16\n",
      "179791/179791 [==============================] - 1148s 6ms/sample - loss: 0.2142 - accuracy: 0.9165 - val_loss: 0.2436 - val_accuracy: 0.9015\n",
      "Epoch 3/16\n",
      "179791/179791 [==============================] - 1148s 6ms/sample - loss: 0.1963 - accuracy: 0.9228 - val_loss: 0.2512 - val_accuracy: 0.8990\n",
      "Epoch 4/16\n",
      "179791/179791 [==============================] - 1148s 6ms/sample - loss: 0.1839 - accuracy: 0.9277 - val_loss: 0.2606 - val_accuracy: 0.8976\n",
      "Epoch 5/16\n",
      "179791/179791 [==============================] - 1149s 6ms/sample - loss: 0.1744 - accuracy: 0.9314 - val_loss: 0.2746 - val_accuracy: 0.8981\n",
      "Epoch 6/16\n",
      "179791/179791 [==============================] - 1149s 6ms/sample - loss: 0.1659 - accuracy: 0.9351 - val_loss: 0.2858 - val_accuracy: 0.8955\n",
      "Epoch 7/16\n",
      "179791/179791 [==============================] - 1149s 6ms/sample - loss: 0.1580 - accuracy: 0.9386 - val_loss: 0.2969 - val_accuracy: 0.8942\n",
      "Epoch 8/16\n",
      "179791/179791 [==============================] - 1148s 6ms/sample - loss: 0.1514 - accuracy: 0.9415 - val_loss: 0.3092 - val_accuracy: 0.8935\n",
      "Epoch 9/16\n",
      "179791/179791 [==============================] - 1147s 6ms/sample - loss: 0.1446 - accuracy: 0.9444 - val_loss: 0.3244 - val_accuracy: 0.8912\n",
      "Epoch 10/16\n",
      "179791/179791 [==============================] - 1148s 6ms/sample - loss: 0.1391 - accuracy: 0.9470 - val_loss: 0.3378 - val_accuracy: 0.8923\n",
      "Epoch 11/16\n",
      "179791/179791 [==============================] - 1147s 6ms/sample - loss: 0.1339 - accuracy: 0.9494 - val_loss: 0.3488 - val_accuracy: 0.8894\n",
      "Epoch 12/16\n",
      "179791/179791 [==============================] - 1148s 6ms/sample - loss: 0.1293 - accuracy: 0.9517 - val_loss: 0.3597 - val_accuracy: 0.8903\n",
      "Epoch 13/16\n",
      "179791/179791 [==============================] - 1148s 6ms/sample - loss: 0.1251 - accuracy: 0.9528 - val_loss: 0.3693 - val_accuracy: 0.8879\n",
      "Epoch 14/16\n",
      "179791/179791 [==============================] - 1147s 6ms/sample - loss: 0.1210 - accuracy: 0.9545 - val_loss: 0.3900 - val_accuracy: 0.8900\n",
      "Epoch 15/16\n",
      "179791/179791 [==============================] - 1145s 6ms/sample - loss: 0.1174 - accuracy: 0.9558 - val_loss: 0.3934 - val_accuracy: 0.8874\n",
      "Epoch 16/16\n",
      "179791/179791 [==============================] - 1144s 6ms/sample - loss: 0.1140 - accuracy: 0.9570 - val_loss: 0.4157 - val_accuracy: 0.8884\n"
     ]
    }
   ],
   "source": [
    "history = nnlm_en_128_model.fit(X_train, y_train,\n",
    "                                epochs=16,\n",
    "                                batch_size=256,\n",
    "                                validation_data=(X_val, y_val),\n",
    "                                verbose=1)"
   ]
  },
  {
   "cell_type": "code",
   "execution_count": 23,
   "metadata": {},
   "outputs": [
    {
     "data": {
      "image/png": "[encoded data removed]",
      "text/plain": [
       "<Figure size 1440x288 with 2 Axes>"
      ]
     },
     "metadata": {
      "needs_background": "light"
     },
     "output_type": "display_data"
    }
   ],
   "source": [
    "show_training_curve(history)"
   ]
  },
  {
   "cell_type": "code",
   "execution_count": 24,
   "metadata": {},
   "outputs": [],
   "source": [
    "nnlm_en_128_model.save('../models/nnlm_en_128_16_ep_model.h5')"
   ]
  },
  {
   "cell_type": "markdown",
   "metadata": {},
   "source": [
    "### Just one epoch (a fairer comparison perhaps? and the model definitely overfits our training anyway)"
   ]
  },
  {
   "cell_type": "code",
   "execution_count": 25,
   "metadata": {},
   "outputs": [
    {
     "name": "stdout",
     "output_type": "stream",
     "text": [
      "Train on 179791 samples, validate on 20209 samples\n",
      "179791/179791 [==============================] - 3s 19us/sample - loss: 0.4246 - accuracy: 0.7934 - val_loss: 0.2956 - val_accuracy: 0.8785\n"
     ]
    }
   ],
   "source": [
    "gnews_swivel_1_ep_model = tf.keras.Sequential()\n",
    "gnews_swivel_1_ep_model.add(hub.KerasLayer('https://tfhub.dev/google/tf2-preview/gnews-swivel-20dim-with-oov/1',\n",
    "                            output_shape=[20], input_shape=[], dtype=tf.string, trainable=True))\n",
    "gnews_swivel_1_ep_model.add(tf.keras.layers.Dense(16, activation='relu'))\n",
    "gnews_swivel_1_ep_model.add(tf.keras.layers.Dense(1, activation='sigmoid'))\n",
    "\n",
    "gnews_swivel_1_ep_model.compile(optimizer='adam', loss='binary_crossentropy', metrics=['accuracy'])\n",
    "\n",
    "gnews_swivel_1_ep_model.fit(X_train, y_train, epochs=1, batch_size=256,\n",
    "                            validation_data=(X_val, y_val), verbose=1)\n",
    "\n",
    "gnews_swivel_1_ep_model.save('../models/gnews_swivel_1_ep_model.h5')"
   ]
  },
  {
   "cell_type": "code",
   "execution_count": 26,
   "metadata": {},
   "outputs": [
    {
     "name": "stdout",
     "output_type": "stream",
     "text": [
      "Train on 179791 samples, validate on 20209 samples\n",
      "179791/179791 [==============================] - 460s 3ms/sample - loss: 0.3040 - accuracy: 0.8762 - val_loss: 0.2469 - val_accuracy: 0.9004\n"
     ]
    }
   ],
   "source": [
    "nnlm_en_50_1_ep_model = tf.keras.Sequential()\n",
    "nnlm_en_50_1_ep_model.add(hub.KerasLayer('https://tfhub.dev/google/tf2-preview/nnlm-en-dim50/1',\n",
    "                                         output_shape=[50], input_shape=[], dtype=tf.string, trainable=True))\n",
    "nnlm_en_50_1_ep_model.add(tf.keras.layers.Dense(16, activation='relu'))\n",
    "nnlm_en_50_1_ep_model.add(tf.keras.layers.Dense(1, activation='sigmoid'))\n",
    "\n",
    "nnlm_en_50_1_ep_model.compile(optimizer='adam', loss='binary_crossentropy', metrics=['accuracy'])\n",
    "\n",
    "nnlm_en_50_1_ep_model.fit(X_train, y_train, epochs=1, batch_size=256,\n",
    "                          validation_data=(X_val, y_val), verbose=1)\n",
    "\n",
    "nnlm_en_50_1_ep_model.save('../models/nnlm_en_50_1_ep_model.h5')"
   ]
  },
  {
   "cell_type": "code",
   "execution_count": 27,
   "metadata": {},
   "outputs": [
    {
     "name": "stdout",
     "output_type": "stream",
     "text": [
      "Train on 179791 samples, validate on 20209 samples\n",
      "179791/179791 [==============================] - 1146s 6ms/sample - loss: 0.2811 - accuracy: 0.8879 - val_loss: 0.2424 - val_accuracy: 0.9020\n"
     ]
    }
   ],
   "source": [
    "nnlm_en_128_1_ep_model = tf.keras.Sequential()\n",
    "nnlm_en_128_1_ep_model.add(hub.KerasLayer('https://tfhub.dev/google/tf2-preview/nnlm-en-dim128/1',\n",
    "                                          output_shape=[128], input_shape=[], dtype=tf.string, trainable=True))\n",
    "nnlm_en_128_1_ep_model.add(tf.keras.layers.Dense(16, activation='relu'))\n",
    "nnlm_en_128_1_ep_model.add(tf.keras.layers.Dense(1, activation='sigmoid'))\n",
    "\n",
    "nnlm_en_128_1_ep_model.compile(optimizer='adam', loss='binary_crossentropy', metrics=['accuracy'])\n",
    "\n",
    "nnlm_en_128_1_ep_model.fit(X_train, y_train, epochs=1, batch_size=256,\n",
    "                           validation_data=(X_val, y_val), verbose=1)\n",
    "\n",
    "nnlm_en_128_1_ep_model.save('../models/nnlm_en_128_1_ep_model.h5')"
   ]
  },
  {
   "cell_type": "code",
   "execution_count": 31,
   "metadata": {},
   "outputs": [
    {
     "data": {
      "text/plain": [
       "array([[0.00919178]], dtype=float32)"
      ]
     },
     "execution_count": 31,
     "metadata": {},
     "output_type": "execute_result"
    }
   ],
   "source": [
    "nnlm_en_128_1_ep_model.predict(np.array(['your flight sucks']))"
   ]
  },
  {
   "cell_type": "code",
   "execution_count": 32,
   "metadata": {},
   "outputs": [
    {
     "data": {
      "text/plain": [
       "array([[0.6416278]], dtype=float32)"
      ]
     },
     "execution_count": 32,
     "metadata": {},
     "output_type": "execute_result"
    }
   ],
   "source": [
    "nnlm_en_128_1_ep_model.predict(np.array(['your cabin crew gave me chocolate']))"
   ]
  },
  {
   "cell_type": "code",
   "execution_count": 36,
   "metadata": {},
   "outputs": [
    {
     "data": {
      "text/plain": [
       "array([[0.22790857]], dtype=float32)"
      ]
     },
     "execution_count": 36,
     "metadata": {},
     "output_type": "execute_result"
    }
   ],
   "source": [
    "nnlm_en_128_1_ep_model.predict(np.array(['the cabin was very smelly']))"
   ]
  },
  {
   "cell_type": "code",
   "execution_count": null,
   "metadata": {},
   "outputs": [],
   "source": []
  }
 ],
 "metadata": {
  "kernelspec": {
   "display_name": "Python 3",
   "language": "python",
   "name": "python3"
  },
  "language_info": {
   "codemirror_mode": {
    "name": "ipython",
    "version": 3
   },
   "file_extension": ".py",
   "mimetype": "text/x-python",
   "name": "python",
   "nbconvert_exporter": "python",
   "pygments_lexer": "ipython3",
   "version": "3.7.3"
  }
 },
 "nbformat": 4,
 "nbformat_minor": 2
}
